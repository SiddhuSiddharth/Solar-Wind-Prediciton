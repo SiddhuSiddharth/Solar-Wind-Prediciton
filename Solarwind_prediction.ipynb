{
  "cells": [
    {
      "cell_type": "markdown",
      "metadata": {
        "id": "4YINh0LCwTeN"
      },
      "source": [
        "# Prerequisites"
      ]
    },
    {
      "cell_type": "markdown",
      "metadata": {
        "id": "-bpmfnX0o7fo"
      },
      "source": [
        "Import the following libraries for performing required operations and import the necessary functions"
      ]
    },
    {
      "cell_type": "code",
      "execution_count": null,
      "metadata": {
        "colab": {
          "background_save": true
        },
        "id": "FjFMHUalt9pT"
      },
      "outputs": [],
      "source": [
        "%%capture\n",
        "!pip install polars\n",
        "!pip install tslearn\n",
        "!pip install autoviz"
      ]
    },
    {
      "cell_type": "code",
      "execution_count": null,
      "metadata": {
        "colab": {
          "background_save": true
        },
        "id": "30w2RXEnxxhG",
        "outputId": "1f44eca3-2134-4120-c82a-9c0ff76bc036"
      },
      "outputs": [
        {
          "name": "stdout",
          "output_type": "stream",
          "text": [
            "Imported v0.1.904. Please call AutoViz in this sequence:\n",
            "    AV = AutoViz_Class()\n",
            "    %matplotlib inline\n",
            "    dfte = AV.AutoViz(filename, sep=',', depVar='', dfte=None, header=0, verbose=1, lowess=False,\n",
            "               chart_format='svg',max_rows_analyzed=150000,max_cols_analyzed=30, save_plot_dir=None)\n"
          ]
        }
      ],
      "source": [
        "import numpy as np\n",
        "import datetime\n",
        "import matplotlib.pyplot as plt\n",
        "import seaborn as sns\n",
        "import polars as pl\n",
        "import pandas as pd\n",
        "from autoviz import AutoViz_Class\n",
        "%matplotlib inline\n",
        "\n",
        "# Import Statsmodels\n",
        "from statsmodels.tsa.api import VAR\n",
        "from statsmodels.tsa.statespace.sarimax import SARIMAX\n",
        "from statsmodels.graphics.tsaplots import plot_pacf, plot_acf\n",
        "import statsmodels.api as sm"
      ]
    },
    {
      "cell_type": "markdown",
      "metadata": {
        "id": "ntQNSOn0ELsJ"
      },
      "source": [
        "# Data Extraction"
      ]
    },
    {
      "cell_type": "markdown",
      "metadata": {
        "id": "VaS9npTopLs2"
      },
      "source": [
        "We are connecting to google drive to obtain the kaggle.json key value to access kaggle through our account."
      ]
    },
    {
      "cell_type": "code",
      "execution_count": null,
      "metadata": {
        "id": "vTYrLvXPwCO3"
      },
      "outputs": [],
      "source": [
        "from google.colab import drive\n",
        "drive.mount('/content/drive')"
      ]
    },
    {
      "cell_type": "code",
      "execution_count": null,
      "metadata": {
        "id": "kblN9pZawWUM"
      },
      "outputs": [],
      "source": [
        "# from google.colab import files\n",
        "# files.upload()\n",
        "\n",
        "# Get the kaggle.json file form downloads\n",
        "\n",
        "!sudo mkdir /root/.kaggle\n",
        "!sudo cp '/content/drive/MyDrive/Important Keys/kaggle.json' /root/.kaggle/\n",
        "!sudo chmod 600 /root/.kaggle/kaggle.json"
      ]
    },
    {
      "cell_type": "markdown",
      "metadata": {
        "id": "eYrq0JdrpSlx"
      },
      "source": [
        "Extract and save the datasets we need in colab 's temporary storage."
      ]
    },
    {
      "cell_type": "code",
      "execution_count": null,
      "metadata": {
        "id": "sdw1OnVhwYzb"
      },
      "outputs": [],
      "source": [
        "%%capture\n",
        "!kaggle datasets download arashnic/soalr-wind\n",
        "!unzip /content/soalr-wind.zip -d /content/data\n",
        "!rm /content/soalr-wind.zip"
      ]
    },
    {
      "cell_type": "markdown",
      "metadata": {
        "id": "yVPf3-5Hxs7D"
      },
      "source": [
        "# Data Preprocessing & Visualization"
      ]
    },
    {
      "cell_type": "markdown",
      "metadata": {
        "id": "y9qWPravqHVh"
      },
      "source": [
        "## Functions"
      ]
    },
    {
      "cell_type": "markdown",
      "metadata": {
        "id": "6-yp-mHDpjll"
      },
      "source": [
        "Actual dataset has DST values stored in the format\n",
        "\n",
        "|timedelta|\n",
        "|-------------------|\n",
        "|\"0 days 00:00:00\"|\n",
        "|\"0 days 01:00:00\"|\n",
        "|\"0 days 02:00:00\"|\n",
        "|$\\cdots$|\n",
        "\n",
        "This function converts all 'x days xx:xx:xx' format dates to datetime (microseconds) type conversion. The starting data 2016-01-01 is given in the dataset description as the starting datetime.\n",
        "\n",
        "The timed gap between each reading here is 1 hour. Meaning every reading will be of form:\n",
        "\n",
        "|timedelta|\n",
        "|-------------------|\n",
        "|2016-01-01 00:00:00|\n",
        "|2016-01-01 01:00:00|\n",
        "|2016-01-01 02:00:00|\n",
        "|$\\cdots$|"
      ]
    },
    {
      "cell_type": "code",
      "execution_count": null,
      "metadata": {
        "id": "AslqEAYMT6KL"
      },
      "outputs": [],
      "source": [
        "def index_to_datetime(val):\n",
        "    start_date = datetime.datetime(2016, 1, 1, 0, 0, 0)\n",
        "    days, hours = int(val)//24, int(val)%24\n",
        "    return start_date + datetime.timedelta(days=int(days), hours=hours)"
      ]
    },
    {
      "cell_type": "code",
      "execution_count": null,
      "metadata": {
        "id": "yCPDZqKeidkE"
      },
      "outputs": [],
      "source": [
        "def convert_to_datetime(time_string):\n",
        "    start_date = datetime.datetime(2016, 1, 1, 0, 0, 0)\n",
        "    days, time_str = time_string.split(' days ')\n",
        "    time_parts = time_str.split(':')\n",
        "    hours, minutes, seconds = int(time_parts[0]), int(time_parts[1]), int(time_parts[2])\n",
        "    return start_date + datetime.timedelta(days=int(days), hours=hours)"
      ]
    },
    {
      "cell_type": "markdown",
      "metadata": {
        "id": "Drc7rQk1rfmn"
      },
      "source": [
        "This function converts all 'x days xx:xx:xx' format dates to indices (int64) type conversion.\n",
        "\n",
        "The timed gap between each reading here is 1 hour. Meaning every reading will be of form:\n",
        "\n",
        "|timedelta|\n",
        "|---------|\n",
        "|0|\n",
        "|1|\n",
        "|2|\n",
        "|$\\cdots$|"
      ]
    },
    {
      "cell_type": "code",
      "execution_count": null,
      "metadata": {
        "id": "r-qLp8V5pTm7"
      },
      "outputs": [],
      "source": [
        "def convert_to_index(time_string):\n",
        "    days, time_str = time_string.split(' days ')\n",
        "    time_parts = time_str.split(':')\n",
        "    hours, minutes, seconds = int(time_parts[0]), int(time_parts[1]), int(time_parts[2])\n",
        "    return int(hours + int(days)*24)"
      ]
    },
    {
      "cell_type": "markdown",
      "metadata": {
        "id": "xUEnOs5eqiAS"
      },
      "source": [
        "## Labels (Dst)"
      ]
    },
    {
      "cell_type": "markdown",
      "metadata": {
        "id": "stAALl5Br3Gv"
      },
      "source": [
        "This will be the labels part. Here we will have Distance Storm-time Index (DST index) values calculated for every hour. Period refers to the location from which a DST is calcualted. We have 3 locations here: _train_a_, _train_b_, and _train_c_."
      ]
    },
    {
      "cell_type": "code",
      "execution_count": null,
      "metadata": {
        "id": "lhi0c6o_xIN5"
      },
      "outputs": [],
      "source": [
        "df = pl.read_csv('/content/data/labels.csv') #index_col = 'timedelta', dtypes={\"period\":pl.String}\n",
        "df = df.with_columns(pl.col(\"timedelta\").map_elements(convert_to_datetime))\n",
        "df.sample(10)"
      ]
    },
    {
      "cell_type": "markdown",
      "metadata": {
        "id": "kyGtp6cIstmP"
      },
      "source": [
        "This is the visualization of DST values over the time series model for every period."
      ]
    },
    {
      "cell_type": "code",
      "execution_count": null,
      "metadata": {
        "id": "m61f1Q33OXUp"
      },
      "outputs": [],
      "source": [
        "# title timedelta vs smoothed_ssn\n",
        "\n",
        "def _plot_series(series, series_name, series_index=0):\n",
        "  palette = list(sns.palettes.mpl_palette('Dark2'))\n",
        "  xs = series['timedelta']\n",
        "  ys = series['dst']\n",
        "\n",
        "  plt.plot(xs, ys, label=series_name, color=palette[series_index % len(palette)])\n",
        "\n",
        "fig, ax = plt.subplots(figsize=(10, 5.2), layout='constrained')\n",
        "df_sorted = df.sort(\"timedelta\")\n",
        "for i, (series_name, series) in enumerate(df_sorted.group_by('period')):\n",
        "  _plot_series(series, series_name, i)\n",
        "  fig.legend(title='period', bbox_to_anchor=(1, 1), loc='upper left')\n",
        "sns.despine(fig=fig, ax=ax)\n",
        "plt.xlabel('timedelta')\n",
        "_ = plt.ylabel('smoothed_ssn')"
      ]
    },
    {
      "cell_type": "markdown",
      "metadata": {
        "id": "rlAP3rqdtAlG"
      },
      "source": [
        "Now we shall split all the periods into different dataframes using polars operations and frop the period table to avoid space consumption.\n",
        "\n",
        "We shall also store the names of periods corresponding to the order in which the DST 's are stored in a seeprate list called _period_."
      ]
    },
    {
      "cell_type": "code",
      "execution_count": null,
      "metadata": {
        "id": "yqT3ybXBW3aG"
      },
      "outputs": [],
      "source": [
        "sg_df = {}\n",
        "period = []\n",
        "for group, sub_df in df.group_by(\"period\"):\n",
        "    sg_df[group] = sub_df\n",
        "    period.append(group)\n",
        "del df, group, sub_df\n",
        "for i in period:\n",
        "    sg_df[i].drop_in_place(\"period\")\n",
        "    sg_df[i] = sg_df[i].sort(\"timedelta\")\n",
        "    print(i, sg_df[i].tail())\n",
        "\n",
        "period.sort()\n",
        "myKeys = list(sg_df.keys())\n",
        "myKeys.sort()\n",
        "sg_df = {i: sg_df[i] for i in myKeys}\n",
        "sg_df"
      ]
    },
    {
      "cell_type": "markdown",
      "metadata": {
        "id": "mC_pua9_tYn5"
      },
      "source": [
        "Extract both DST values and time series values in 2 seperate lists seperated by their respective periods. DST values are stored in _y_ and time series values are stored in _T_."
      ]
    },
    {
      "cell_type": "code",
      "execution_count": null,
      "metadata": {
        "id": "tT9OweZUyHAm"
      },
      "outputs": [],
      "source": [
        "y = []\n",
        "for i in period:\n",
        "    y.append(sg_df[i]['dst'])\n",
        "    print(np.sort(np.asarray(sg_df[i]['dst'])))\n",
        "\n",
        "T = []\n",
        "for i in period:\n",
        "    T.append(sg_df[i]['timedelta'])\n",
        "    print(np.sort(np.asarray(sg_df[i]['timedelta'])))"
      ]
    },
    {
      "cell_type": "markdown",
      "metadata": {
        "id": "W33l9QRftnrc"
      },
      "source": [
        "Let 's visualize the peaks for all 3 periods through ACF and PACF to get a better understanding of the data."
      ]
    },
    {
      "cell_type": "code",
      "execution_count": null,
      "metadata": {
        "id": "ZGunCMuV__jB"
      },
      "outputs": [],
      "source": [
        "fig, axs = plt.subplots(len(y), 2, figsize=(12, 8))\n",
        "for i in range(len(y)):\n",
        "    plot_acf(y[i], lags=30, ax=axs[i,0])\n",
        "    plot_pacf(y[i], lags=30, ax=axs[i,1])\n",
        "\n",
        "    axs[i,0].set_title(f'DST \\'{period[i]}\\' (ACF)')\n",
        "    axs[i,1].set_title(f'DST \\'{period[i]}\\' (PACF)')\n",
        "\n",
        "plt.tight_layout()\n",
        "plt.show()"
      ]
    },
    {
      "cell_type": "code",
      "execution_count": null,
      "metadata": {
        "id": "7797qDNYS6WL"
      },
      "outputs": [],
      "source": [
        "Y = []\n",
        "for i in range(len(period)):\n",
        "    Y.append(pd.Series(y[i]))\n",
        "    Y[i] = Y[i].set_axis(T[i])\n",
        "Y"
      ]
    },
    {
      "cell_type": "code",
      "execution_count": null,
      "metadata": {
        "id": "qIMLzOKi5l1e"
      },
      "outputs": [],
      "source": [
        "del sg_df"
      ]
    },
    {
      "cell_type": "markdown",
      "metadata": {
        "id": "1oX-YOWXqn2N"
      },
      "source": [
        "## Solar Wind (Features)"
      ]
    },
    {
      "cell_type": "code",
      "execution_count": null,
      "metadata": {
        "id": "KQlRwIP2DRn5"
      },
      "outputs": [],
      "source": [
        "# %reset"
      ]
    },
    {
      "cell_type": "code",
      "execution_count": null,
      "metadata": {
        "id": "Dzb7GAb45BGZ"
      },
      "outputs": [],
      "source": [
        "df = pl.read_csv('/content/data/solar_wind.csv')\n",
        "df.drop_in_place(\"source\")\n",
        "df = df.with_columns(pl.col(\"timedelta\").map_elements(convert_to_index))"
      ]
    },
    {
      "cell_type": "markdown",
      "metadata": {
        "id": "7tpN-SfvuJ9g"
      },
      "source": [
        "Let us visualize only the columns with <1,000 unique values."
      ]
    },
    {
      "cell_type": "code",
      "execution_count": null,
      "metadata": {
        "id": "2Viy93Y4AMjp"
      },
      "outputs": [],
      "source": [
        "for i in df.columns:\n",
        "    f = df[i].value_counts()\n",
        "    if len(f) < 1_000:\n",
        "        print(i, f)\n",
        "    del f"
      ]
    },
    {
      "cell_type": "markdown",
      "metadata": {
        "id": "PqApGXRYuVgP"
      },
      "source": [
        "It turns out that only period satisfies the condition. Meaning we can assume that other values are distributed on a continous scale."
      ]
    },
    {
      "cell_type": "markdown",
      "metadata": {
        "id": "Ae0rMRvpugBH"
      },
      "source": [
        "To get more insight lets get the descrption of each and every column."
      ]
    },
    {
      "cell_type": "code",
      "execution_count": null,
      "metadata": {
        "id": "IayKzAUn6Hy3"
      },
      "outputs": [],
      "source": [
        "df.describe()"
      ]
    },
    {
      "cell_type": "markdown",
      "metadata": {
        "id": "NIeMZbseunmC"
      },
      "source": [
        "Since we found lot of missing values we are extracting the count of each column 's missing values here."
      ]
    },
    {
      "cell_type": "code",
      "execution_count": null,
      "metadata": {
        "id": "PQlVHfT5xm9Y"
      },
      "outputs": [],
      "source": [
        "df_len = len(df[df.columns[0]])\n",
        "df_len"
      ]
    },
    {
      "cell_type": "code",
      "execution_count": null,
      "metadata": {
        "id": "Cvej6DR4DSuj"
      },
      "outputs": [],
      "source": [
        "missing = list(zip(list(df.columns), list((df.null_count()).row(0))))\n",
        "missing"
      ]
    },
    {
      "cell_type": "markdown",
      "metadata": {
        "id": "tkPsMdRmyBy8"
      },
      "source": [
        "We are removing columns with more than a 1/20th of missing values."
      ]
    },
    {
      "cell_type": "code",
      "execution_count": null,
      "metadata": {
        "id": "8cxdKf1lxVKX"
      },
      "outputs": [],
      "source": [
        "for i in missing:\n",
        "    if i[1] >= (df_len/20):\n",
        "        df.drop_in_place(i[0])"
      ]
    },
    {
      "cell_type": "markdown",
      "metadata": {
        "id": "wEwmHVMfuuoM"
      },
      "source": [
        "Fill the missing values through forward method. Forward method fills the missing value based on what is there after the missing value. Other such methods include ['forward', 'backward', 'mean'] which we can use."
      ]
    },
    {
      "cell_type": "code",
      "execution_count": null,
      "metadata": {
        "id": "vvcrnd802idp"
      },
      "outputs": [],
      "source": [
        "df = df.with_columns(\n",
        "    pl.all().fill_null(strategy=\"forward\")\n",
        ")"
      ]
    },
    {
      "cell_type": "code",
      "execution_count": null,
      "metadata": {
        "id": "CYSfbmdFHicN"
      },
      "outputs": [],
      "source": [
        "df.describe()"
      ]
    },
    {
      "cell_type": "markdown",
      "metadata": {
        "id": "8vr5OhtTvNPr"
      },
      "source": [
        "For the purpose of data visualization we are saving the updated dataframe as a new CSV file and saving it as X."
      ]
    },
    {
      "cell_type": "code",
      "execution_count": null,
      "metadata": {
        "id": "Oke0y2ybHy03"
      },
      "outputs": [],
      "source": [
        "df.write_csv('/content/data/X.csv', separator=\",\")"
      ]
    },
    {
      "cell_type": "markdown",
      "metadata": {
        "id": "DhsAO_MNwn_s"
      },
      "source": [
        "Following is the possible meaningful visualizations for the above dataframe."
      ]
    },
    {
      "cell_type": "code",
      "execution_count": null,
      "metadata": {
        "id": "XYwWtfXyGdM3"
      },
      "outputs": [],
      "source": [
        "AV = AutoViz_Class()\n",
        "\n",
        "filename = '/content/data/X.csv'\n",
        "# depVar = 'medv'\n",
        "# sep=','\n",
        "\n",
        "_ = AV.AutoViz(filename)"
      ]
    },
    {
      "cell_type": "markdown",
      "metadata": {
        "id": "lJ7rmxtc5Wuj"
      },
      "source": [
        "We are dropping the following columns due to high correlation (meaning high dependency) with existing columns."
      ]
    },
    {
      "cell_type": "code",
      "execution_count": null,
      "metadata": {
        "id": "ixwJ1p91xKOr"
      },
      "outputs": [],
      "source": [
        "df.drop_in_place('bx_gsm')\n",
        "df.drop_in_place('by_gsm')\n",
        "df.drop_in_place('bz_gsm')\n",
        "df.drop_in_place('phi_gsm')\n",
        "df.drop_in_place('theta_gsm')"
      ]
    },
    {
      "cell_type": "markdown",
      "metadata": {
        "id": "i3Snjx2rvVQv"
      },
      "source": [
        "Correlation coefficient matrix of the entire dataframe. Every number marked represents the columns in order."
      ]
    },
    {
      "cell_type": "code",
      "execution_count": null,
      "metadata": {
        "id": "Gf2wlajli3x6"
      },
      "outputs": [],
      "source": [
        "corr_coefficient_matrix = df.select(pl.exclude([\"period\", \"timedelta\"])).corr()\n",
        "plt.figure(figsize=(16, 16))\n",
        "sns.heatmap(corr_coefficient_matrix, annot=True, cmap='coolwarm', fmt=\".3f\")\n",
        "plt.title('Feature Correlation Coefficient Matrix')\n",
        "plt.show()"
      ]
    },
    {
      "cell_type": "markdown",
      "metadata": {
        "id": "TydVlWi2yYNy"
      },
      "source": [
        "group_by(\"timedelta\") is used to group all timedelta values with same exact time. This is why we didnt add minutes and seconds to the convert_to_timedelta or convert_to_index function.\n",
        "\n",
        "Then we arrange them in ascending order of timedelta."
      ]
    },
    {
      "cell_type": "code",
      "execution_count": null,
      "metadata": {
        "id": "NarXw9ju_cDp"
      },
      "outputs": [],
      "source": [
        "sg_df = list(df.group_by(\"period\"))\n",
        "x = {}\n",
        "for i in sg_df:\n",
        "    x[i[0]] = i[1].group_by(\"timedelta\").agg(pl.col(list(df.columns[2:])).mean())\n",
        "\n",
        "myKeys = list(x.keys())\n",
        "myKeys.sort()\n",
        "x = {i: x[i] for i in myKeys}\n",
        "\n",
        "for i in sg_df:\n",
        "    x[i[0]] = x[i[0]].sort(\"timedelta\")\n",
        "x"
      ]
    },
    {
      "cell_type": "code",
      "execution_count": null,
      "metadata": {
        "id": "im6lMhcIUrfT"
      },
      "outputs": [],
      "source": [
        "X = dict()\n",
        "\n",
        "for i, key in enumerate(x.keys()):\n",
        "    X[key] = x[key].to_pandas()\n",
        "    X[key].index = pd.Series(T[i])\n",
        "    X[key] = X[key].drop('timedelta', axis=1)\n",
        "X"
      ]
    },
    {
      "cell_type": "code",
      "execution_count": null,
      "metadata": {
        "id": "Ls6_BUHUpVDs"
      },
      "outputs": [],
      "source": [
        "del sg_df, df, myKeys, _, missing, AV, df_len, x"
      ]
    },
    {
      "cell_type": "markdown",
      "metadata": {
        "id": "cKLcotPTqtPa"
      },
      "source": [
        "## Sunspots (Wolf number)"
      ]
    },
    {
      "cell_type": "markdown",
      "metadata": {
        "id": "LE81Wj3Yvy_i"
      },
      "source": [
        "Sunspots are the no. of spots observed from a location (period) at time t."
      ]
    },
    {
      "cell_type": "code",
      "execution_count": null,
      "metadata": {
        "id": "CoIMCZyEySu5"
      },
      "outputs": [],
      "source": [
        "df = pl.read_csv('/content/data/sunspots.csv')\n",
        "df = df.with_columns(pl.col(\"timedelta\").apply(convert_to_datetime))\n",
        "df.sample(6)\n",
        "# np.asarray(df['smoothed_ssn'])"
      ]
    },
    {
      "cell_type": "code",
      "execution_count": null,
      "metadata": {
        "id": "nCLXQmu7lyG8"
      },
      "outputs": [],
      "source": [
        "# title timedelta vs smoothed_ssn\n",
        "\n",
        "def _plot_series(series, series_name, series_index=0):\n",
        "  palette = list(sns.palettes.mpl_palette('Dark2'))\n",
        "  xs = series['timedelta']\n",
        "  ys = series['smoothed_ssn']\n",
        "\n",
        "  plt.plot(xs, ys, label=series_name, color=palette[series_index % len(palette)])\n",
        "\n",
        "fig, ax = plt.subplots(figsize=(10, 5.2), layout='constrained')\n",
        "df_sorted = df.sort(\"timedelta\")\n",
        "for i, (series_name, series) in enumerate(df_sorted.group_by('period')):\n",
        "  _plot_series(series, series_name, i)\n",
        "  fig.legend(title='period', bbox_to_anchor=(1, 1), loc='upper left')\n",
        "sns.despine(fig=fig, ax=ax)\n",
        "plt.xlabel('timedelta')\n",
        "_ = plt.ylabel('smoothed_ssn')"
      ]
    },
    {
      "cell_type": "code",
      "execution_count": null,
      "metadata": {
        "id": "F6lSfajNzqwF"
      },
      "outputs": [],
      "source": [
        "df.describe()"
      ]
    },
    {
      "cell_type": "code",
      "execution_count": null,
      "metadata": {
        "id": "voAChsgo5n2j"
      },
      "outputs": [],
      "source": [
        "del df, ax, _, fig"
      ]
    },
    {
      "cell_type": "markdown",
      "metadata": {
        "id": "zM-psHdt7lny"
      },
      "source": [
        "# Time Series Modelling"
      ]
    },
    {
      "cell_type": "code",
      "execution_count": null,
      "metadata": {
        "id": "mE-xVNQgR2Q2"
      },
      "outputs": [],
      "source": [
        "for i in range(len(period)):\n",
        "    model = SARIMAX(pd.Series(Y[i]), order=(1, 1, 1), seasonal_order=(1, 1, 1, 12))\n",
        "    result = model.fit()\n",
        "    forecast = result.forecast(steps=12)\n",
        "    plt.figure(figsize=(14, 10), dpi=120)\n",
        "    plt.plot(pd.Series(Y[i]))\n",
        "    plt.plot(forecast)\n",
        "    plt.show()\n",
        "    del result, model, forecast"
      ]
    },
    {
      "cell_type": "code",
      "execution_count": null,
      "metadata": {
        "id": "8r9ZJAHAD5jG"
      },
      "outputs": [],
      "source": [
        "llf_vals = dict()\n",
        "lag_val = []\n",
        "avg_VAR = 0.0\n",
        "for i in period:\n",
        "    model = VAR(X[i][:1000])\n",
        "    sorted_order = model.select_order(maxlags=50)\n",
        "    lag_val.append(sorted_order.aic.min())\n",
        "\n",
        "    results = model.fit(maxlags=sorted_order.aic.min(), ic='aic')\n",
        "    llf_vals[i] = results.llf\n",
        "    print(f'Log Likelihood for {i}: {llf_vals[i]}')\n",
        "    avg_VAR += llf_vals[i]\n",
        "\n",
        "avg_VAR /= len(period)\n",
        "print(f\"Average Log Likelihood {avg_VAR}\")"
      ]
    },
    {
      "cell_type": "code",
      "execution_count": null,
      "metadata": {
        "id": "-5LevgWeylPg"
      },
      "outputs": [],
      "source": [
        "res = dict()\n",
        "\n",
        "for i, key in enumerate(X.keys()):\n",
        "    model = sm.tsa.VARMAX(X[key][:500], order=(1,1)) # order=(lag_val[i],50-lag_val[i]))\n",
        "    res[i] = model.fit(maxiter=1000, disp=False)\n",
        "    print(res[i].summary())"
      ]
    },
    {
      "cell_type": "markdown",
      "metadata": {
        "id": "vIgJ-djRPTHd"
      },
      "source": [
        "Using these above results, we can predict variables for the given timedelta (time period) which can be used for predicting DST value. Examples of such models we can use for predicting DST are MAP (Maxima a posteriori), GAN (Generative Adversial Networks), HMM (Hidden Markov Models) and other such Generative ML models."
      ]
    },
    {
      "cell_type": "markdown",
      "metadata": {
        "id": "4at5T7MZ-v5c"
      },
      "source": [
        "# Regressive Machine Learning"
      ]
    },
    {
      "cell_type": "code",
      "execution_count": null,
      "metadata": {
        "colab": {
          "base_uri": "https://localhost:8080/"
        },
        "id": "uogTPZj6-x7Y",
        "outputId": "6fd50dc4-d7ca-4343-cbed-7d85ce86f187"
      },
      "outputs": [
        {
          "name": "stdout",
          "output_type": "stream",
          "text": [
            "L0inear Regression Scores\n",
            "\n",
            "train_a - 15.125987%\n",
            "train_b - 10.565174%\n",
            "train_c - 10.543494%\n"
          ]
        }
      ],
      "source": [
        "from sklearn.linear_model import LinearRegression\n",
        "from sklearn.model_selection import train_test_split\n",
        "\n",
        "LinReg = []\n",
        "print(\"L0inear Regression Scores\\n\")\n",
        "\n",
        "for i, key in enumerate(X.keys()):\n",
        "    X_train, X_test, y_train, y_test = train_test_split(X[key],Y[i],random_state=104,test_size=0.25,shuffle=True)\n",
        "    LinReg.append(LinearRegression())\n",
        "    LinReg[i].fit(X_train, y_train)\n",
        "    #print(list(zip(LinReg[i].predict(X_test), y_test)))\n",
        "    print(f'{key} - {round(100*LinReg[i].score(X_test, y_test),6)}%')"
      ]
    },
    {
      "cell_type": "code",
      "execution_count": null,
      "metadata": {
        "colab": {
          "base_uri": "https://localhost:8080/"
        },
        "id": "WBCL_-xoDqjY",
        "outputId": "2dea9dae-9149-4a11-a970-eaf1fb486bf7"
      },
      "outputs": [
        {
          "name": "stdout",
          "output_type": "stream",
          "text": [
            "Polynomial Regression Scores\n",
            "\n",
            "[[-8.53000000e+00 -1.70000000e+00  1.52000000e+00 ...  3.65918641e+04\n",
            "   1.68909070e+03  7.79689000e+01]\n",
            " [-4.31966667e+00  3.31883333e+00 -1.25000000e-01 ...  2.01790075e+04\n",
            "   8.39248139e+02  3.49044640e+01]\n",
            " [-1.44500000e-01 -3.87900000e+00 -8.66333333e-01 ...  7.24284450e+04\n",
            "   1.23093442e+03  2.09199514e+01]\n",
            " ...\n",
            " [-3.11100000e+00  3.24333333e+00  3.08750000e+00 ...  1.82305354e+04\n",
            "   8.01256654e+02  3.52163121e+01]\n",
            " [-6.89700000e+00  3.01883333e+00  2.74333333e-01 ...  2.44569459e+04\n",
            "   1.19659641e+03  5.85454523e+01]\n",
            " [-9.67666667e-01  4.59650000e+00  2.37616667e+00 ...  1.01894556e+04\n",
            "   5.65414457e+02  3.13749351e+01]] (7206,) (7206, 27)\n",
            "[[ 4.66800000e+00 -5.61483333e+00  4.17500000e+00 ...  9.57829253e+04\n",
            "   2.64994085e+03  7.33135521e+01]\n",
            " [ 1.09416667e+00 -9.91333333e-01 -5.17666667e-01 ...  1.00777994e+05\n",
            "   5.06394432e+02  2.54455669e+00]\n",
            " [ 1.49250000e+00 -4.69800000e+00 -1.22300000e+00 ...  8.26254904e+04\n",
            "   1.50780062e+03  2.75152702e+01]\n",
            " ...\n",
            " [ 7.00833333e-01 -7.63666667e-01 -7.36500000e-01 ...  9.53974853e+04\n",
            "   4.59951214e+02  2.21761736e+00]\n",
            " [-8.76333333e-01 -6.31666667e-01 -9.65333333e-01 ...  3.77713395e+04\n",
            "   4.96139329e+02  6.51695803e+00]\n",
            " [ 1.86350000e+00  3.24033333e+00  1.62000000e-01 ...  3.68477327e+03\n",
            "   2.50801807e+02  1.70706694e+01]] (13146,) (13146, 27)\n",
            "[[ 1.09833333e-01 -1.34766667e+00  1.66983333e+00 ...  6.32658317e+04\n",
            "   5.89788894e+02  5.49824336e+00]\n",
            " [ 2.68583333e+00  6.01666667e-02 -3.47233333e+00 ...  3.35787300e+04\n",
            "   8.18616497e+02  1.99570671e+01]\n",
            " [ 4.32416667e+00  3.63333333e-01 -3.35000000e-02 ...  2.43149446e+04\n",
            "   7.45825148e+02  2.28770890e+01]\n",
            " ...\n",
            " [ 1.61816667e+00 -6.40833333e-01 -1.31466667e+00 ...  4.91285747e+04\n",
            "   5.95424888e+02  7.21638678e+00]\n",
            " [-4.20633333e+00  1.87683333e+00 -9.91500000e-01 ...  2.46211665e+04\n",
            "   8.22738424e+02  2.74925444e+01]\n",
            " [ 1.29116667e+00 -2.13183333e+00 -2.12516667e+00 ...  5.16964348e+04\n",
            "   1.13877513e+03  2.50850722e+01]] (14616,) (14616, 27)\n"
          ]
        }
      ],
      "source": [
        "from sklearn.preprocessing import PolynomialFeatures\n",
        "from sklearn.metrics import mean_squared_error\n",
        "\n",
        "PolyReg = []\n",
        "print(\"Polynomial Regression Scores\\n\")\n",
        "\n",
        "for i, key in enumerate(X.keys()):\n",
        "    X_train, X_test, y_train, y_test = train_test_split(X[key],Y[i],random_state=104,test_size=0.25,shuffle=True)\n",
        "    PolyReg.append(PolynomialFeatures(degree=2, include_bias=False))\n",
        "    PolyReg[i].fit_transform(X_train, y_train)\n",
        "    lin2 = LinearRegression()\n",
        "    lin2.fit(X_train, y_train)\n",
        "    y_pred = PolyReg[i].transform(X_test)\n",
        "    print(y_pred, y_test.shape, y_pred.shape)\n",
        "    #rms = mean_squared_error(y_test, y_pred, squared=False)"
      ]
    },
    {
      "cell_type": "code",
      "execution_count": null,
      "metadata": {
        "colab": {
          "base_uri": "https://localhost:8080/",
          "height": 906
        },
        "id": "Q1Y9gO-D0pp2",
        "outputId": "11916f21-1fc3-48a4-9fd3-91ee03a34992"
      },
      "outputs": [
        {
          "name": "stdout",
          "output_type": "stream",
          "text": [
            "[(array([5.48813504, 3.11795882]), [3.310087591609415]), (array([7.15189366, 6.96343489]), [1.6392685014813946]), (array([6.02763376, 3.77751839]), [4.833562954578343]), (array([5.44883183, 1.79603678]), [4.933985104124673]), (array([4.23654799, 0.24678728]), [7.774698269400762]), (array([6.45894113, 0.67249631]), [5.28439483527963]), (array([4.37587211, 6.79392773]), [1.9485034627852338]), (array([8.91773001, 4.53696845]), [8.14190702784407]), (array([9.63662761, 5.36579211]), [1.4791601404784016]), (array([3.83441519, 8.96671293]), [5.289140108012512]), (array([7.91725038, 9.90338947]), [0.4246919770645574]), (array([5.2889492 , 2.16896984]), [3.691809440992293]), (array([5.68044561, 6.63078203]), [6.718731713210726]), (array([9.25596638, 2.63322377]), [1.3870850810653435]), (array([0.71036058, 0.20650999]), [5.248799921284021]), (array([0.871293  , 7.58378654]), [5.3883916884584195]), (array([0.20218397, 3.20017151]), [9.09355112464279]), (array([8.32619846, 3.83463894]), [4.666293736999204]), (array([7.78156751, 5.88317114]), [0.7835088424931014]), (array([8.70012148, 8.31048455]), [1.4593729391312482]), (array([9.78618342, 6.28981844]), [2.756086401299193]), (array([7.99158564, 8.72650655]), [7.9895401755886555]), (array([4.61479362, 2.73542035]), [2.551083285673835]), (array([7.80529176, 7.98046834]), [6.094292917812019]), (array([1.18274426, 1.85635944]), [0.7838168970193882]), (array([6.39921021, 9.52791657]), [2.021454195864542]), (array([1.43353287, 6.87488276]), [6.191428258133746]), (array([9.44668917, 2.15507677]), [0.9813875382961756]), (array([5.21848322, 9.4737059 ]), [7.155425901754682]), (array([4.1466194 , 7.30855807]), [4.491002025717519]), (array([2.64555612, 2.53941643]), [2.7957525138584205]), (array([7.74233689, 2.13311977]), [8.739002522646546]), (array([4.56150332, 5.18200714]), [6.73158146918348]), (array([5.68433949, 0.25662718]), [0.6418438235411827]), (array([0.187898  , 2.07470075]), [6.701976378921905]), (array([6.17635497, 4.24685469]), [1.9837923659104706]), (array([6.12095723, 3.7416998 ]), [9.202589125636921]), (array([6.16933997, 4.63575424]), [1.5373198946529187]), (array([9.43748079, 2.77628706]), [6.166895563041491]), (array([6.81820299, 5.86784346]), [2.4240650415698517]), (array([3.59507901, 8.63855606]), [9.421664820451573]), (array([4.37031954, 1.17531856]), [3.2446719552707712]), (array([6.97631196, 5.17379107]), [5.896365630842033]), (array([0.60225472, 1.32068106]), [1.2950937628619286]), (array([6.66766715, 7.16859681]), [4.793720557585281]), (array([6.7063787 , 3.96059703]), [6.088362892110891]), (array([2.10382561, 5.65421312]), [7.706961891023262]), (array([1.28926298, 1.83279836]), [5.570674938278416]), (array([3.15428351, 1.44847759]), [7.035988520793303]), (array([3.63710771, 4.88056281]), [8.590815047297518]), (array([5.7019677 , 3.55612738]), [2.985567448977707]), (array([4.38601513, 9.40431945]), [3.401669339305281]), (array([9.88373838, 7.65325254]), [0.2957385115650779]), (array([1.02044811, 7.4866362 ]), [5.542618128654196]), (array([2.08876756, 9.0371974 ]), [9.715309283465462]), (array([1.61309518, 0.83422435]), [7.361026993008667]), (array([6.53108325, 5.5219247 ]), [9.925855204972937]), (array([2.53291603, 5.84476069]), [4.5435207635731985]), (array([4.66310773, 9.61936379]), [7.474735784826665]), (array([2.44425592, 2.92147527]), [1.6120827226217105]), (array([1.58969584, 2.4082878 ]), [4.220064644911017]), (array([1.10375141, 1.00293942]), [6.436138727174525]), (array([6.56329589, 0.1642963 ]), [4.503120580430124]), (array([1.38182951, 9.29529317]), [0.297221841219274]), (array([1.96582362, 6.69916547]), [3.1684260950695977]), (array([3.68725171, 7.85152912]), [6.760677570305994]), (array([8.2099323 , 2.81730106]), [3.951937205791538]), (array([0.97101276, 5.86410166]), [4.484049445863276]), (array([8.37944907, 0.63955266]), [8.56179176233806]), (array([0.96098408, 4.85627596]), [2.6939083034449176]), (array([9.76459465, 9.7749514 ]), [6.159316145282703]), (array([4.68651202, 8.76505245]), [8.457705568383858]), (array([9.76761088, 3.38158952]), [8.07150626951958]), (array([6.0484552 , 9.61570155]), [2.387236664455151]), (array([7.39263579, 2.31701626]), [0.5108977065763043]), (array([0.39187792, 9.49318822]), [2.7682779033352545]), (array([2.82806963, 9.41377705]), [1.7640340523260734]), (array([1.20196561, 7.99202587]), [0.2771074949814023]), (array([2.96140198, 6.30447937]), [3.043616434857568]), (array([1.18727719, 8.74287967]), [5.208113899890296]), (array([3.17983179, 2.93020285]), [6.5031897860978995]), (array([4.14262995, 8.48943555]), [3.7789523296801897]), (array([0.64147496, 6.17876692]), [2.0428292239636137]), (array([6.92472119, 0.13236858]), [5.693060331951527]), (array([5.66601454, 3.47233518]), [7.523663058764099]), (array([2.65389491, 1.48140861]), [6.949516877790678]), (array([5.23248053, 9.8182939 ]), [8.569845569668988]), (array([0.93940511, 4.78370307]), [2.638670246226983]), (array([5.75946496, 4.97391365]), [5.03009832220081]), (array([9.29296198, 6.39472516]), [4.8843740374453235]), (array([3.18568952, 3.68584606]), [3.2158258287848884]), (array([6.6741038 , 1.36900272]), [6.8642098662205715]), (array([1.31797862, 8.22117733]), [1.342342048147659]), (array([7.16327204, 1.89847912]), [8.051491327144351]), (array([2.89406093, 5.11318983]), [0.36619174163297075]), (array([1.83191362, 2.24317029]), [3.881798489827343]), (array([5.86512935, 0.97844484]), [6.073203455652825]), (array([0.20107546, 8.62191517]), [4.243640870651941]), (array([8.28940029, 9.72919489]), [6.556921456790803]), (array([0.04695476, 9.60834658]), [0.388006149131479]), (array([6.77816537, 9.06555499]), [8.671605076394512]), (array([2.70007973, 7.74047333]), [0.7765712692326643]), (array([7.35194022, 3.33145152]), [2.877463221161809]), (array([9.62188545, 0.8110139 ]), [2.9336891585600755]), (array([2.48753144, 4.07241171]), [0.11813637171465441]), (array([5.76157334, 2.32234142]), [0.940238805164284]), (array([5.92041931, 1.32487635]), [8.518839291320733]), (array([5.72251906, 0.53427182]), [7.7581484776281915]), (array([2.23081633, 7.25594364]), [7.3799347946379745]), (array([9.52749012, 0.11427459]), [6.892962031094357]), (array([4.47125379, 7.70580749]), [0.7453008397307914]), (array([8.46408672, 1.46946645]), [2.9865743427986704]), (array([6.99479275, 0.79522083]), [0.06573277650610443]), (array([2.97436951, 0.89603034]), [0.6052102078277488]), (array([8.1379782 , 6.72047807]), [0.37887595790137785]), (array([3.96505741, 2.4536721 ]), [1.9893400432708475]), (array([8.81103197, 4.20539467]), [0.5628354713367167]), (array([5.81272873, 5.57368791]), [0.16883784429005844]), (array([8.81735362, 8.60551174]), [2.449147316233382]), (array([6.9253159 , 7.27044263]), [7.988539235655333]), (array([7.2525428 , 2.70327905]), [0.5631100467902717]), (array([5.01324382, 1.31482799]), [9.845492343178497]), (array([9.56083635, 0.5537432 ]), [6.575832364081544]), (array([6.43990199, 3.01598634]), [8.668208805965696]), (array([4.23855049, 2.62118149]), [6.607009575771983]), (array([6.06393214, 4.56140567]), [7.76873739863259]), (array([0.19193198, 6.83281336]), [3.0077885471146635]), (array([3.01574817, 6.95625446]), [2.573246988236051]), (array([6.60173537, 2.83518847]), [6.644249776889312]), (array([2.90077607, 3.79926956]), [5.6315435339597455]), (array([6.18015429, 1.81150962]), [5.056632576911053]), (array([4.28768701, 7.88545512]), [1.7725524555031191]), (array([1.35474064, 0.56848076]), [2.3064852320499507]), (array([2.98282326, 6.96997242]), [5.497251122414206]), (array([5.69964911, 7.78695396]), [4.09918041247717]), (array([5.90872761, 7.77407562]), [9.625122942927632]), (array([5.74325249, 2.59422564]), [5.528223556900267]), (array([6.5320082 , 3.73813138]), [4.317116640505323]), (array([6.5210327 , 5.87599635]), [9.505988532342336]), (array([4.31418435, 2.72821902]), [0.9161385081875306]), (array([8.96546596, 3.70852799]), [2.717819914832693]), (array([3.6756187, 1.9705428]), [3.4639443568268433]), (array([4.35864925, 4.59855884]), [8.535026178683808]), (array([8.91923355, 0.44612301]), [7.664119839578025]), (array([8.06193989, 7.99795885]), [3.0471417482051466]), (array([7.03888584, 0.76956447]), [8.725633575295845]), (array([1.00226887, 5.18835149]), [0.6255666512954305]), (array([9.19482614, 3.068101  ]), [4.934669400921148]), (array([7.142413  , 5.77542949]), [6.54684237674076]), (array([9.98847007, 9.59433341]), [3.1219431437521825]), (array([1.49448305, 6.45570244]), [0.6917107239102072]), (array([8.68126057, 0.35362436]), [2.571603093695294]), (array([1.62492935, 4.3040244 ]), [4.837717724502756]), (array([6.15559564, 5.10016852]), [3.181063600710882]), (array([1.23819983, 5.36177495]), [4.156718564657576]), (array([8.48008229, 6.81392511]), [0.9312461771485603]), (array([8.07318959, 2.77596098]), [0.14273543491684637]), (array([5.69100739, 1.28860565]), [8.776126475866896]), (array([4.07183297, 3.92675677]), [0.7811174585382918]), (array([0.69166995, 9.56405723]), [2.9282457597048817]), (array([6.97428773, 1.87130892]), [6.640453737502613]), (array([4.53542683, 9.03983955]), [8.445044303175884]), (array([7.22055599, 5.4380595 ]), [3.2126273668254193]), (array([8.66382326, 4.56911422]), [6.520685017691679]), (array([9.75521505, 8.8204141 ]), [4.721312932373857]), (array([8.55803342, 4.58603962]), [0.5101303307194649]), (array([0.11714084, 7.24167637]), [4.083630031615427]), (array([3.59978064, 3.99025322]), [0.29848052465646147]), (array([7.29990562, 9.04044393]), [9.641902975068014]), (array([1.71629677, 6.9002502 ]), [7.621837999945748]), (array([5.21036606, 6.99622054]), [3.392923295762893]), (array([0.54337988, 3.27720402]), [2.3474043001400116]), (array([1.99996525, 7.56778643]), [4.0032716873111776]), (array([0.18521794, 6.36061055]), [3.1616445726221376]), (array([7.93697703, 2.40020273]), [3.7079440882134285]), (array([2.23924688, 1.60538822]), [9.187144294578184]), (array([3.45351681, 7.96391475]), [4.0452514359347935]), (array([9.28081293, 9.59166603]), [7.413994912071714]), (array([7.04414402, 4.58138827]), [1.5681302089280846]), (array([0.3183893 , 5.90984165]), [5.336810764982988]), (array([1.64694156, 8.57722644]), [4.937339634706303]), (array([6.21478401, 4.57223453]), [5.912319467043519]), (array([5.77228589, 9.51874477]), [6.798874898642921]), (array([2.37892821, 5.75751162]), [8.610194418145973]), (array([9.34213998, 8.20767121]), [2.2996724673665705]), (array([6.13965956, 9.08843718]), [3.815341106582597]), (array([5.35632803, 8.15523819]), [0.5718278798614373]), (array([5.89909976, 1.59414463]), [6.2418127988774135]), (array([7.3012203 , 6.28898439]), [9.34759914336219]), (array([3.11944995, 3.98434259]), [3.961971087266419]), (array([3.98221062, 0.62712952]), [9.717510813438395]), (array([2.09843749, 4.24032252]), [5.978752446681308]), (array([1.86193006, 2.58684067]), [2.112467092930197]), (array([9.4437239 , 8.49038308]), [5.295290252524105]), (array([7.39550795, 0.33304627]), [6.4004554552252415]), (array([4.90458809, 9.58982722]), [6.662728323728844]), (array([2.27414628, 3.55368848]), [6.380418083556501]), (array([2.54356482, 3.5670689 ]), [1.8961396933845598]), (array([0.5802916 , 0.16328503]), [2.083105865383229]), (array([4.34416626, 1.85232325]), [2.414630508415975])]\n",
            "Mean Squared Error: 96.93781216530805\n"
          ]
        },
        {
          "data": {
            "image/png": "[encoded data removed]",
            "text/plain": [
              "<Figure size 640x480 with 1 Axes>"
            ]
          },
          "metadata": {},
          "output_type": "display_data"
        },
        {
          "data": {
            "image/png": "[encoded data removed]",
            "text/plain": [
              "<Figure size 640x480 with 1 Axes>"
            ]
          },
          "metadata": {},
          "output_type": "display_data"
        }
      ],
      "source": [
        "import numpy as np\n",
        "import matplotlib.pyplot as plt\n",
        "from sklearn.model_selection import train_test_split\n",
        "from sklearn.linear_model import LinearRegression\n",
        "from sklearn.preprocessing import PolynomialFeatures\n",
        "from sklearn.metrics import mean_squared_error\n",
        "\n",
        "# Generate some sample data\n",
        "np.random.seed(0)\n",
        "x_1 = np.random.rand(200, 1) * 10\n",
        "x_2 = np.random.rand(200, 1) * 10\n",
        "a = X['train_a'] #np.array([[x_1.tolist()[i][0], x_2.tolist()[i][0]] for i in range(len(a))])\n",
        "b = Y[0] #x_1**2 + x_2**2 + 10 * np.random.randn(200, 1)\n",
        "\n",
        "# Split the data into training and testing sets\n",
        "X_train, X_test, y_train, y_test = train_test_split(a, b, test_size=0.2, random_state=0)\n",
        "\n",
        "# Fit a polynomial regression model\n",
        "poly_features = PolynomialFeatures(degree=2)\n",
        "X_poly = poly_features.fit_transform(X_train)\n",
        "model = LinearRegression()\n",
        "model.fit(X_poly, y_train)\n",
        "\n",
        "# Make predictions\n",
        "X_test_poly = poly_features.transform(X_test)\n",
        "y_pred = model.predict(X_test_poly)\n",
        "\n",
        "# Calculate mean squared error\n",
        "mse = mean_squared_error(y_test, y_pred)\n",
        "print(\"Mean Squared Error:\", mse)\n",
        "\n",
        "# Plot the results\n",
        "plt.scatter(x_1, b, color='blue')\n",
        "plt.scatter(X_test[:,0], y_pred, color='red')\n",
        "plt.show()\n",
        "\n",
        "# Plot the results\n",
        "plt.scatter(x_2, b, color='blue')\n",
        "plt.scatter(X_test[:,1], y_pred, color='red')\n",
        "plt.show()"
      ]
    },
    {
      "cell_type": "code",
      "execution_count": null,
      "metadata": {
        "id": "YgBCaGlS9EPz"
      },
      "outputs": [],
      "source": []
    }
  ],
  "metadata": {
    "colab": {
      "collapsed_sections": [
        "4YINh0LCwTeN",
        "ntQNSOn0ELsJ",
        "yVPf3-5Hxs7D",
        "y9qWPravqHVh",
        "xUEnOs5eqiAS",
        "1oX-YOWXqn2N",
        "cKLcotPTqtPa",
        "zM-psHdt7lny"
      ],
      "provenance": []
    },
    "kernelspec": {
      "display_name": "Python 3",
      "name": "python3"
    },
    "language_info": {
      "name": "python"
    }
  },
  "nbformat": 4,
  "nbformat_minor": 0
}